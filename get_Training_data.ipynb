{
 "cells": [
  {
   "cell_type": "code",
   "execution_count": 11,
   "metadata": {},
   "outputs": [],
   "source": [
    "from selenium import webdriver\n",
    "from selenium.common.exceptions import NoSuchElementException\n",
    "from selenium.common.exceptions import NoSuchFrameException\n",
    "from selenium.webdriver.support.ui import Select\n",
    "import time\n",
    "from datetime import datetime\n",
    "\n",
    "\n",
    "import os\n",
    "\n",
    "driver = webdriver.Chrome(\".\\chromedriver.exe\")"
   ]
  },
  {
   "cell_type": "code",
   "execution_count": 12,
   "metadata": {},
   "outputs": [],
   "source": [
    "driver.maximize_window()\n",
    "driver.get(\"https://www.ebus.com.tw/NetOrder/payOrder/addOrder.aspx\")\n",
    "driver.implicitly_wait(10)"
   ]
  },
  {
   "cell_type": "code",
   "execution_count": 20,
   "metadata": {},
   "outputs": [],
   "source": [
    "def check_folder(path):\n",
    "    if not os.path.isdir(path):\n",
    "        os.mkdir(path)\n",
    "    "
   ]
  },
  {
   "cell_type": "code",
   "execution_count": 21,
   "metadata": {},
   "outputs": [],
   "source": [
    "check_folder('data')"
   ]
  },
  {
   "cell_type": "code",
   "execution_count": null,
   "metadata": {},
   "outputs": [],
   "source": [
    "ct=0\n",
    "import time\n",
    "\n",
    "while(1):\n",
    "\n",
    "    driver.save_screenshot('test.png')\n",
    "    vcode = driver.find_element_by_id('imgChkCode')\n",
    "\n",
    "    left = vcode.location['x']\n",
    "    right = vcode.location['x'] + vcode.size['width']\n",
    "    top = vcode.location['y']\n",
    "    bottom = vcode.location['y'] + vcode.size['height']\n",
    "\n",
    "    #left, right, top, bottom\n",
    "\n",
    "    from PIL import Image\n",
    "    img = Image.open('test.png')\n",
    "\n",
    "    img = img.crop((left, top, right, bottom))\n",
    "\n",
    "    #img.show()\n",
    "\n",
    "    img.save('data/vcode_'+str(ct)+'.png')\n",
    "    \n",
    "    xpath='//*[@id=\"row_gTravelData8\"]/td[2]/table/tbody/tr/td[3]'\n",
    "    \n",
    "    driver.find_element_by_xpath(xpath).click()\n",
    "    \n",
    "    time.sleep(1)\n",
    "    \n",
    "    ct+=1;\n"
   ]
  },
  {
   "cell_type": "code",
   "execution_count": 4,
   "metadata": {},
   "outputs": [],
   "source": []
  },
  {
   "cell_type": "code",
   "execution_count": null,
   "metadata": {},
   "outputs": [],
   "source": []
  }
 ],
 "metadata": {
  "kernelspec": {
   "display_name": "Python 3",
   "language": "python",
   "name": "python3"
  },
  "language_info": {
   "codemirror_mode": {
    "name": "ipython",
    "version": 3
   },
   "file_extension": ".py",
   "mimetype": "text/x-python",
   "name": "python",
   "nbconvert_exporter": "python",
   "pygments_lexer": "ipython3",
   "version": "3.6.8"
  }
 },
 "nbformat": 4,
 "nbformat_minor": 2
}
