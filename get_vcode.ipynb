{
 "cells": [
  {
   "cell_type": "code",
   "execution_count": 2,
   "metadata": {},
   "outputs": [
    {
     "data": {
      "text/plain": [
       "<matplotlib.image.AxesImage at 0x266f2e4f3c8>"
      ]
     },
     "execution_count": 2,
     "metadata": {},
     "output_type": "execute_result"
    },
    {
     "data": {
      "image/png": "[encoded data removed]",
      "text/plain": [
       "<matplotlib.figure.Figure at 0x266f2dd7320>"
      ]
     },
     "metadata": {
      "needs_background": "light"
     },
     "output_type": "display_data"
    }
   ],
   "source": [
    "import matplotlib.pyplot as plt\n",
    "import cv2\n",
    "import numpy as np\n",
    "\n",
    "image = cv2.imread(\"captua.png\")\n",
    "plt.imshow(image)"
   ]
  },
  {
   "cell_type": "code",
   "execution_count": 3,
   "metadata": {
    "scrolled": false
   },
   "outputs": [
    {
     "data": {
      "text/plain": [
       "<matplotlib.image.AxesImage at 0x266f2eb2160>"
      ]
     },
     "execution_count": 3,
     "metadata": {},
     "output_type": "execute_result"
    },
    {
     "data": {
      "image/png": "[encoded data removed]",
      "text/plain": [
       "<matplotlib.figure.Figure at 0x266f2e24710>"
      ]
     },
     "metadata": {
      "needs_background": "light"
     },
     "output_type": "display_data"
    }
   ],
   "source": [
    "retval, im2 = cv2.threshold(image, 115, 255, cv2.THRESH_BINARY_INV)\n",
    "plt.imshow(im2)"
   ]
  },
  {
   "cell_type": "code",
   "execution_count": 7,
   "metadata": {},
   "outputs": [],
   "source": [
    "def tran_gray(jpg_path):\n",
    "    #jpg_path = 't1.jpg'\n",
    "    image = Image.open(jpg_path)\n",
    "    #灰度化处理\n",
    "    #有很多种算法，这里选择rgb加权平均值算法\n",
    "    gray_image = Image.new('L', image.size)\n",
    "    #获得rgb数据序列，每一个都是(r,g,b)三元组\n",
    "    raw_data = image.getdata()\n",
    "    gray_data = []\n",
    "    for rgb in raw_data:\n",
    "        value = 0.299 * rgb[0] + 0.587 * rgb[1] + 0.114 * rgb[2]\n",
    "        #value就是灰度值，这里使用127作为阀值，\n",
    "        #小于127的就认为是黑色也就是0 大于等于127的就是白色，也就是255\n",
    "        if value < 127:\n",
    "            gray_data.append(0)\n",
    "        else:\n",
    "            gray_data.append(255)\n",
    "    \n",
    "    gray_image.putdata(gray_data)\n",
    "    return gray_image\n",
    "\n",
    "def xrange(x):\n",
    "\n",
    "    return iter(range(x))\n",
    "\n",
    "def input_image_pix_and_plot(jpg_path):\n",
    "    #jpg_path = 't1.jpg'\n",
    "    image = cv2.imread(jpg_path, cv2.IMREAD_COLOR)\n",
    "    plt.imshow(image)\n",
    "    plt.show()\n",
    "    return image\n",
    "\n",
    "def catch_axis_start_and_end(im4,axis='x'):\n",
    "\n",
    "    if(axis=='x'):\n",
    "        split = []\n",
    "        for i in range(im4.shape[1]):\n",
    "            if( sum( im4[:,i,0] ) != 0 ):\n",
    "                split.append(i)\n",
    "                \n",
    "        split_num_start = [split[0]]\n",
    "        split_num_end = []     \n",
    "           \n",
    "        for i in range(2,len(split),1):\n",
    "            #print(i)\n",
    "            if(split[i]-split[i-1]>3): #and split[i-1]-split[i-2]!=1):\n",
    "                split_num_end.append(split[i-1])\n",
    "                split_num_start.append(split[i])\n",
    "                #print(split[i])\n",
    "        split_num_end.append(split[len(split)-1])\n",
    "    elif(axis=='y'):\n",
    "        split = []\n",
    "        for i in range(im4.shape[0]):\n",
    "            if( sum( im4[i,:,0] ) != 0 ):\n",
    "                split.append(i)\n",
    "        split_num_start = min(split)\n",
    "        split_num_end = max(split)\n",
    "    \n",
    "    return split_num_start,split_num_end\n",
    "    \n",
    "def my_plt_fun(split_num_start,split_num_end,k):\n",
    "    \n",
    "    start = split_num_start[k]-3\n",
    "    end = split_num_end[k]+3\n",
    "    img = im4[:,start:end,:]\n",
    "    \n",
    "    plt.imshow(img)\n",
    "    \n",
    "    y_start,y_end = catch_axis_start_and_end(img,axis='y')\n",
    "    y_start = y_start-3\n",
    "    y_end = y_end+3\n",
    "    \n",
    "    img2 = img[y_start:y_end,:,:]\n",
    "    plt.imshow(img2)\n",
    "    plt.savefig('split_image_' + str(k) + '.png')\n",
    "    return img2\n",
    "\n"
   ]
  },
  {
   "cell_type": "code",
   "execution_count": 8,
   "metadata": {
    "scrolled": true
   },
   "outputs": [
    {
     "ename": "NameError",
     "evalue": "name 'del_mis_pt_by_threshold' is not defined",
     "output_type": "error",
     "traceback": [
      "\u001b[1;31m---------------------------------------------------------------------------\u001b[0m",
      "\u001b[1;31mNameError\u001b[0m                                 Traceback (most recent call last)",
      "\u001b[1;32m<ipython-input-8-c1af331230e9>\u001b[0m in \u001b[0;36m<module>\u001b[1;34m()\u001b[0m\n\u001b[1;32m----> 1\u001b[1;33m \u001b[0mim3\u001b[0m \u001b[1;33m=\u001b[0m \u001b[0mdel_mis_pt_by_threshold\u001b[0m\u001b[1;33m(\u001b[0m\u001b[0mim2\u001b[0m\u001b[1;33m)\u001b[0m\u001b[1;33m\u001b[0m\u001b[0m\n\u001b[0m\u001b[0;32m      2\u001b[0m \u001b[0mplt\u001b[0m\u001b[1;33m.\u001b[0m\u001b[0mimshow\u001b[0m\u001b[1;33m(\u001b[0m\u001b[0mim3\u001b[0m\u001b[1;33m)\u001b[0m\u001b[1;33m\u001b[0m\u001b[0m\n",
      "\u001b[1;31mNameError\u001b[0m: name 'del_mis_pt_by_threshold' is not defined"
     ]
    }
   ],
   "source": [
    "im3 = del_mis_pt_by_threshold(im2)\n",
    "plt.imshow(im3)"
   ]
  },
  {
   "cell_type": "code",
   "execution_count": 9,
   "metadata": {},
   "outputs": [
    {
     "ename": "NameError",
     "evalue": "name 'im3' is not defined",
     "output_type": "error",
     "traceback": [
      "\u001b[1;31m---------------------------------------------------------------------------\u001b[0m",
      "\u001b[1;31mNameError\u001b[0m                                 Traceback (most recent call last)",
      "\u001b[1;32m<ipython-input-9-9fb80acc4aa5>\u001b[0m in \u001b[0;36m<module>\u001b[1;34m()\u001b[0m\n\u001b[1;32m----> 1\u001b[1;33m \u001b[0mim4\u001b[0m \u001b[1;33m=\u001b[0m \u001b[0mcv2\u001b[0m\u001b[1;33m.\u001b[0m\u001b[0mdilate\u001b[0m\u001b[1;33m(\u001b[0m\u001b[0mim3\u001b[0m\u001b[1;33m,\u001b[0m \u001b[1;33m(\u001b[0m\u001b[1;36m2\u001b[0m\u001b[1;33m,\u001b[0m \u001b[1;36m2\u001b[0m\u001b[1;33m)\u001b[0m\u001b[1;33m,\u001b[0m \u001b[0miterations\u001b[0m\u001b[1;33m=\u001b[0m\u001b[1;36m1\u001b[0m\u001b[1;33m)\u001b[0m\u001b[1;33m\u001b[0m\u001b[0m\n\u001b[0m\u001b[0;32m      2\u001b[0m \u001b[0mplt\u001b[0m\u001b[1;33m.\u001b[0m\u001b[0mimshow\u001b[0m\u001b[1;33m(\u001b[0m\u001b[0mim4\u001b[0m\u001b[1;33m)\u001b[0m\u001b[1;33m\u001b[0m\u001b[0m\n\u001b[0;32m      3\u001b[0m \u001b[1;31m# save figure\u001b[0m\u001b[1;33m\u001b[0m\u001b[1;33m\u001b[0m\u001b[0m\n\u001b[0;32m      4\u001b[0m \u001b[0mplt\u001b[0m\u001b[1;33m.\u001b[0m\u001b[0msavefig\u001b[0m\u001b[1;33m(\u001b[0m\u001b[1;34m'del_mix_pt.png'\u001b[0m\u001b[1;33m)\u001b[0m\u001b[1;33m\u001b[0m\u001b[0m\n",
      "\u001b[1;31mNameError\u001b[0m: name 'im3' is not defined"
     ]
    }
   ],
   "source": [
    "im4 = cv2.dilate(im3, (2, 2), iterations=1)\n",
    "plt.imshow(im4)\n",
    "# save figure\n",
    "plt.savefig('del_mix_pt.png')"
   ]
  },
  {
   "cell_type": "code",
   "execution_count": 54,
   "metadata": {},
   "outputs": [
    {
     "data": {
      "image/png": "[encoded data removed]",
      "text/plain": [
       "<matplotlib.figure.Figure at 0x21eb1f16eb8>"
      ]
     },
     "metadata": {
      "needs_background": "light"
     },
     "output_type": "display_data"
    }
   ],
   "source": [
    "\n",
    "x_split_start,x_split_end = catch_axis_start_and_end(im4,axis='x')\n",
    "\n",
    "# for example\n",
    "img1 = my_plt_fun(x_split_start,x_split_end,0)\n",
    "plt.imshow(img1)\n",
    "\n",
    "# split number and save figure\n",
    "for i in range(len(x_split_start)):\n",
    "    my_plt_fun(x_split_start,x_split_end,i)\n"
   ]
  },
  {
   "cell_type": "code",
   "execution_count": null,
   "metadata": {},
   "outputs": [],
   "source": []
  }
 ],
 "metadata": {
  "kernelspec": {
   "display_name": "Python 3",
   "language": "python",
   "name": "python3"
  },
  "language_info": {
   "codemirror_mode": {
    "name": "ipython",
    "version": 3
   },
   "file_extension": ".py",
   "mimetype": "text/x-python",
   "name": "python",
   "nbconvert_exporter": "python",
   "pygments_lexer": "ipython3",
   "version": "3.6.4"
  }
 },
 "nbformat": 4,
 "nbformat_minor": 2
}
