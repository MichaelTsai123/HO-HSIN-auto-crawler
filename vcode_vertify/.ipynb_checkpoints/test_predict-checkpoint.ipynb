{
 "cells": [
  {
   "cell_type": "code",
   "execution_count": 16,
   "metadata": {},
   "outputs": [
    {
     "name": "stdout",
     "output_type": "stream",
     "text": [
      "圖片不存在\n"
     ]
    },
    {
     "data": {
      "text/plain": [
       "'0000'"
      ]
     },
     "execution_count": 16,
     "metadata": {},
     "output_type": "execute_result"
    }
   ],
   "source": [
    "from keras.models import load_model\n",
    "import cv2\n",
    "import os\n",
    "import sys\n",
    "import numpy as np\n",
    "\n",
    "def get_label_num(string,n):\n",
    "    \n",
    "    label = []\n",
    "    \n",
    "    for i in range(n):\n",
    "        if(string[i].isdigit()):\n",
    "            label.append(int(string[i]))\n",
    "            #print(i)\n",
    "        else:\n",
    "            label.append(int(ord(string[i])-55))\n",
    "            #print(i)\n",
    "    #print(label)\n",
    "    return label\n",
    "\n",
    "def add_eg_num_Labels(label_name):\n",
    "    for i in range(10):\n",
    "        #print(str(i)+\" is added in Label !\")\n",
    "        label_name.append(str(i))\n",
    "    for i in range(10,36):\n",
    "        #print(str(i)+\" is added in Label !\")\n",
    "        label_name.append(str(i))\n",
    "        \n",
    "    return label_name\n",
    "    \n",
    "def imread(path): #注意 cv2是gbr!\n",
    "    if img_shape[2] == 1:\n",
    "        img = cv2.imread(path, cv2.IMREAD_GRAYSCALE)\n",
    "    else:\n",
    "        img = cv2.imread(path)\n",
    "    img = cv2.resize(img, (img_shape[1], img_shape[0]), interpolation=cv2.INTER_CUBIC)\n",
    "    img = img/255\n",
    "    img = np.reshape(img,(1,img_shape[0], img_shape[1],img_shape[2]))\n",
    "    return img\n",
    "\n",
    "def get_vcode_ByNN(path):\n",
    "\n",
    "    img_shape = (64,64,3)\n",
    "    label_name = []\n",
    "\n",
    "\n",
    "    label_name = add_eg_num_Labels(label_name)\n",
    "\n",
    "    num_classes = len(label_name)\n",
    "\n",
    "    if not os.path.isfile(path):\n",
    "        print(\"圖片不存在\")\n",
    "        return '0000'\n",
    "    else:\n",
    "        image = imread(path)\n",
    "        model = load_model('my_model.h5')\n",
    "        result = model.predict(image)\n",
    "        vcode = label_name[np.argmax(result[0])],label_name[np.argmax(result[1])],label_name[np.argmax(result[2])],label_name[np.argmax(result[3])]\n",
    "        return vcode\n",
    "\n",
    "\n",
    "\n",
    "get_vcode_ByNN('training_data\\_test\\0196_526.png')"
   ]
  },
  {
   "cell_type": "code",
   "execution_count": null,
   "metadata": {},
   "outputs": [],
   "source": []
  },
  {
   "cell_type": "code",
   "execution_count": null,
   "metadata": {},
   "outputs": [],
   "source": []
  }
 ],
 "metadata": {
  "kernelspec": {
   "display_name": "Python 3",
   "language": "python",
   "name": "python3"
  },
  "language_info": {
   "codemirror_mode": {
    "name": "ipython",
    "version": 3
   },
   "file_extension": ".py",
   "mimetype": "text/x-python",
   "name": "python",
   "nbconvert_exporter": "python",
   "pygments_lexer": "ipython3",
   "version": "3.6.4"
  }
 },
 "nbformat": 4,
 "nbformat_minor": 2
}
