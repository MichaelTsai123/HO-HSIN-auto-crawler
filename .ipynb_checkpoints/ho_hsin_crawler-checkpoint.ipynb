{
 "cells": [
  {
   "cell_type": "markdown",
   "metadata": {},
   "source": [
    "前處理+設定參數"
   ]
  },
  {
   "cell_type": "code",
   "execution_count": 10,
   "metadata": {},
   "outputs": [
    {
     "name": "stdout",
     "output_type": "stream",
     "text": [
      "this is A142530424\n"
     ]
    }
   ],
   "source": [
    "from selenium import webdriver\n",
    "from selenium.common.exceptions import NoSuchElementException\n",
    "from selenium.common.exceptions import NoSuchFrameException\n",
    "from selenium.webdriver.support.ui import Select\n",
    "import time\n",
    "from datetime import datetime\n",
    "from get_newid import get_CID\n",
    "\n",
    "driver = webdriver.Chrome(\".\\chromedriver.exe\")\n",
    "\n",
    "addOrder_options = []\n",
    "addOrder_inputs = []\n",
    "\n",
    "addOrder_select1 = []\n",
    "addOrder_select2 = []\n",
    "addOrder_select3 = []\n",
    "addOrder_select4 = []\n",
    "addOrder_select5 = []\n",
    "\n",
    "CName = \"名字\"\n",
    "\n",
    "#身份證字號最多六筆\n",
    "CId = get_CID()\n",
    "print(\"this is \"+str(CId))\n",
    "CTel = \"0986664644\"\n",
    "ChkCode = \"1111\""
   ]
  },
  {
   "cell_type": "code",
   "execution_count": 11,
   "metadata": {},
   "outputs": [],
   "source": [
    "driver.maximize_window()\n",
    "driver.get(\"https://www.ebus.com.tw/NetOrder/payOrder/addOrder.aspx\")\n",
    "driver.implicitly_wait(10)"
   ]
  },
  {
   "cell_type": "markdown",
   "metadata": {},
   "source": [
    "獲取訂單欄位資訊"
   ]
  },
  {
   "cell_type": "code",
   "execution_count": 12,
   "metadata": {},
   "outputs": [],
   "source": [
    "#查詢各站資料：\n",
    "addOrder_options.append(driver.find_element_by_id(\"SelectAddr\"))\n",
    "#訂購者姓名：\n",
    "addOrder_options.append(driver.find_element_by_id(\"txtCName\"))\n",
    "#身分證字號：\n",
    "addOrder_options.append(driver.find_element_by_id(\"txtCId\"))\n",
    "#行動電話：\n",
    "addOrder_options.append(driver.find_element_by_id(\"txtCTel\"))\n",
    "#上車地點：\n",
    "addOrder_options.append(driver.find_element_by_id(\"listGsStationId\"))\n",
    "#下車地點：\n",
    "addOrder_options.append(driver.find_element_by_id(\"listGeStationId\"))\n",
    "#乘車日期：\n",
    "addOrder_options.append(driver.find_element_by_id(\"listGDate\"))\n",
    "#乘車時段：\n",
    "addOrder_options.append(driver.find_element_by_id(\"listGTime\"))\n",
    "#驗證碼：\n",
    "addOrder_options.append(driver.find_element_by_id(\"txtChkCode\"))"
   ]
  },
  {
   "cell_type": "markdown",
   "metadata": {},
   "source": [
    "獲取訂單select資訊"
   ]
  },
  {
   "cell_type": "code",
   "execution_count": 13,
   "metadata": {
    "scrolled": true
   },
   "outputs": [],
   "source": [
    "options = Select(addOrder_options[0]).options\n",
    "\n",
    "for i in options:\n",
    "    addOrder_select1.append(i.text)\n",
    "    \n",
    "options = Select(addOrder_options[4]).options\n",
    "for i in options:\n",
    "    addOrder_select2.append(i.text)\n",
    "    \n",
    "options = Select(addOrder_options[5]).options\n",
    "for i in options:\n",
    "    addOrder_select3.append(i.text)\n",
    "    \n",
    "options = Select(addOrder_options[6]).options\n",
    "for i in options:\n",
    "    addOrder_select4.append(i.text)\n",
    "    \n",
    "options = Select(addOrder_options[7]).options\n",
    "for i in options:\n",
    "    addOrder_select5.append(i.text)\n"
   ]
  },
  {
   "cell_type": "markdown",
   "metadata": {},
   "source": [
    "使用者輸入"
   ]
  },
  {
   "cell_type": "code",
   "execution_count": 14,
   "metadata": {
    "scrolled": true
   },
   "outputs": [
    {
     "name": "stdout",
     "output_type": "stream",
     "text": [
      "0. 高雄建國站                    1. 高雄中正站                    2. 高雄九如站                    3. 高雄楠梓站                      \n",
      "4. 台南北門總站                   5. 台南北門站                    6. 台南鹽行站                    7. 台南新市站                      \n",
      "8. 麻豆站                      9. 新營轉運站                    10. 嘉義火車站                    11. 嘉義交流道                      \n",
      "12. 台中朝轉站                    13. 台中港旅客中心                  14. 台中海港大樓                   15. 台中大庄                       \n",
      "16. 台中沙鹿                     17. 靜宜大學                     18. 弘光科大                     19. 梧棲國小                       \n",
      "20. 台中中港站                    21. 新竹站                      22. 中壢交流道                    23. 桃園站                        \n",
      "24. 台北三重站                    25. 台北轉運站                    26. 板橋站                      請輸入起始站名編號 : 4\n",
      "\n",
      "\n",
      "#---------------------------------------------------------------------------------------#\n",
      "#---------------------------------------------------------------------------------------#\n",
      "#---------------------------------------------------------------------------------------#\n",
      "\n",
      "\n",
      "0. 高雄建國站                    1. 高雄中正站                    2. 高雄九如站                    3. 高雄楠梓站                      \n",
      "4. 台南北門總站                   5. 台南北門站                    6. 台南鹽行站                    7. 台南新市站                      \n",
      "8. 麻豆站                      9. 新營轉運站                    10. 嘉義火車站                    11. 嘉義交流道                      \n",
      "12. 台中朝轉站                    13. 台中港旅客中心                  14. 台中海港大樓                   15. 台中大庄                       \n",
      "16. 台中沙鹿                     17. 靜宜大學                     18. 弘光科大                     19. 梧棲國小                       \n",
      "20. 台中中港站                    21. 新竹站                      22. 中壢交流道                    23. 桃園站                        \n",
      "24. 台北三重站                    25. 台北轉運站                    26. 板橋站                      請輸入上車地點 : 4\n",
      "\n",
      "\n",
      "#---------------------------------------------------------------------------------------#\n",
      "#---------------------------------------------------------------------------------------#\n",
      "#---------------------------------------------------------------------------------------#\n",
      "\n",
      "\n",
      "0. 麻豆站                      1. 新營轉運站                    2. 嘉義火車站                    3. 嘉義交流道                      \n",
      "4. 新竹站                      5. 中壢交流道                    6. 桃機第一航廈                   7. 桃機第二航廈                     \n",
      "8. 桃園站                      9. 台北三重站                    10. 台北轉運站                    11. 板橋站                        \n",
      "12. 新埔站                      請輸入下車地點 : 4\n",
      "\n",
      "\n",
      "#---------------------------------------------------------------------------------------#\n",
      "#---------------------------------------------------------------------------------------#\n",
      "#---------------------------------------------------------------------------------------#\n",
      "\n",
      "\n",
      "0. 2019/10/03（四）            1. 2019/10/04（五）            2. 2019/10/05（六）            3. 2019/10/06（日）              \n",
      "4. 2019/10/07（一）            5. 2019/10/08（二）            6. 2019/10/09（三）            7. 2019/10/10（四）              \n",
      "8. 2019/10/11（五）            9. 2019/10/12（六）            10. 2019/10/13（日）            11. 2019/10/14（一）              \n",
      "12. 2019/10/15（二）            13. 2019/10/16（三）            14. 2019/10/17（四）            15. 2019/10/18（五）              \n",
      "請輸入乘車日期 : 10\n",
      "\n",
      "\n",
      "#---------------------------------------------------------------------------------------#\n",
      "#---------------------------------------------------------------------------------------#\n",
      "#---------------------------------------------------------------------------------------#\n",
      "\n",
      "\n",
      "0. 00:00　~　03:00            1. 03:00　~　06:00            2. 06:00　~　09:00            3. 09:00　~　12:00              \n",
      "4. 12:00　~　15:00            5. 15:00　~　18:00            6. 18:00　~　21:00            7. 21:00　~　23:59              \n",
      "請輸入乘車時間 : 5\n",
      "\n",
      "\n",
      "#---------------------------------------------------------------------------------------#\n",
      "#---------------------------------------------------------------------------------------#\n",
      "#---------------------------------------------------------------------------------------#\n",
      "\n",
      "\n",
      "需要幾個全票座位嗎(1/2/3/4/5/6) ? 5\n",
      "需要幾個半票座位嗎(1/2/3/4/5/6) ? 4\n",
      "需要博愛座嗎(0/1) ? 1\n",
      "有沒有偏好幾號座位 ? 12\n"
     ]
    }
   ],
   "source": [
    "def print_space():\n",
    "    print(\"\")\n",
    "    print(\"\")\n",
    "    print(\"#---------------------------------------------------------------------------------------#\")\n",
    "    print(\"#---------------------------------------------------------------------------------------#\")\n",
    "    print(\"#---------------------------------------------------------------------------------------#\")\n",
    "    print(\"\")\n",
    "    print(\"\")\n",
    "\n",
    "\n",
    "ct=1\n",
    "\n",
    "for i in range(len(addOrder_select1)):\n",
    "    print(str(i)+\". \"+addOrder_select1[i], end='     ')\n",
    "    for j in range(20-len(addOrder_select1[i])):\n",
    "        print(\" \",end='')\n",
    "    if(ct%4==0):\n",
    "        print(\"  \")\n",
    "    ct+=1\n",
    "\n",
    "\n",
    "input_1 = input(\"請輸入起始站名編號 : \") \n",
    "\n",
    "print_space()\n",
    "\n",
    "ct=1\n",
    "\n",
    "for i in range(len(addOrder_select2)):\n",
    "    print(str(i)+\". \"+addOrder_select2[i], end='     ')\n",
    "    for j in range(20-len(addOrder_select2[i])):\n",
    "        print(\" \",end='')\n",
    "    if(ct%4==0):\n",
    "        print(\"  \")\n",
    "    ct+=1\n",
    "\n",
    "\n",
    "input_2 = input(\"請輸入上車地點 : \") \n",
    "\n",
    "print_space()\n",
    "\n",
    "ct=1\n",
    "\n",
    "for i in range(len(addOrder_select3)):\n",
    "    print(str(i)+\". \"+addOrder_select3[i], end='     ')\n",
    "    for j in range(20-len(addOrder_select3[i])):\n",
    "        print(\" \",end='')\n",
    "    if(ct%4==0):\n",
    "        print(\"  \")\n",
    "    ct+=1\n",
    "\n",
    "\n",
    "input_3 = input(\"請輸入下車地點 : \") \n",
    "\n",
    "print_space()\n",
    "\n",
    "ct=1\n",
    "\n",
    "for i in range(len(addOrder_select4)):\n",
    "    print(str(i)+\". \"+addOrder_select4[i], end='     ')\n",
    "    for j in range(20-len(addOrder_select4[i])):\n",
    "        print(\" \",end='')\n",
    "    if(ct%4==0):\n",
    "        print(\"  \")\n",
    "    ct+=1\n",
    "\n",
    "\n",
    "input_4 = input(\"請輸入乘車日期 : \") \n",
    "\n",
    "print_space()\n",
    "\n",
    "ct=1\n",
    "\n",
    "for i in range(len(addOrder_select5)):\n",
    "    print(str(i)+\". \"+addOrder_select5[i], end='     ')\n",
    "    for j in range(20-len(addOrder_select5[i])):\n",
    "        print(\" \",end='')\n",
    "    if(ct%4==0):\n",
    "        print(\"  \")\n",
    "    ct+=1\n",
    "\n",
    "\n",
    "input_5 = input(\"請輸入乘車時間 : \")\n",
    "\n",
    "print_space()\n",
    "\n",
    "input_6 = input(\"需要幾個全票座位嗎(1/2/3/4/5/6) ? \")\n",
    "input_7 = input(\"需要幾個半票座位嗎(1/2/3/4/5/6) ? \")\n",
    "input_8 = input(\"需要博愛座嗎(0/1) ? \")\n",
    "input_9 = input(\"有沒有偏好幾號座位 ? \")\n"
   ]
  },
  {
   "cell_type": "markdown",
   "metadata": {},
   "source": [
    "獲取驗證碼"
   ]
  },
  {
   "cell_type": "code",
   "execution_count": 15,
   "metadata": {},
   "outputs": [],
   "source": [
    "driver.save_screenshot('test.png')\n",
    "vcode = driver.find_element_by_id('imgChkCode')\n",
    "\n",
    "left = vcode.location['x']\n",
    "right = vcode.location['x'] + vcode.size['width']\n",
    "top = vcode.location['y']\n",
    "bottom = vcode.location['y'] + vcode.size['height']"
   ]
  },
  {
   "cell_type": "code",
   "execution_count": 16,
   "metadata": {},
   "outputs": [],
   "source": [
    "left, right, top, bottom\n",
    "\n",
    "from PIL import Image\n",
    "img = Image.open('test.png')\n",
    "\n",
    "img = img.crop((left, top, right, bottom))\n",
    "\n",
    "#img.show()\n",
    "\n",
    "img.save('captua.png')"
   ]
  },
  {
   "cell_type": "markdown",
   "metadata": {},
   "source": [
    "填寫資料"
   ]
  },
  {
   "cell_type": "code",
   "execution_count": 17,
   "metadata": {},
   "outputs": [],
   "source": [
    "#查詢各站資料：\n",
    "Select(driver.find_element_by_id(\"SelectAddr\")).select_by_index(input_1)\n",
    "#訂購者姓名：\n",
    "driver.find_element_by_id(\"txtCName\").send_keys(CName)\n",
    "#身分證字號：\n",
    "driver.find_element_by_id(\"txtCId\").send_keys(CId)\n",
    "#行動電話：\n",
    "driver.find_element_by_id(\"txtCTel\").send_keys(CTel)\n",
    "#上車地點：\n",
    "Select(driver.find_element_by_id(\"listGsStationId\")).select_by_index(input_2)\n",
    "#下車地點：\n",
    "Select(driver.find_element_by_id(\"listGeStationId\")).select_by_index(input_3)\n",
    "#乘車日期：\n",
    "Select(driver.find_element_by_id(\"listGDate\")).select_by_index(input_4)\n",
    "#乘車時段：\n",
    "Select(driver.find_element_by_id(\"listGTime\")).select_by_index(input_5)\n",
    "#驗證碼：\n",
    "driver.find_element_by_id(\"txtChkCode\").send_keys(ChkCode)"
   ]
  },
  {
   "cell_type": "markdown",
   "metadata": {},
   "source": [
    "送出"
   ]
  },
  {
   "cell_type": "code",
   "execution_count": 18,
   "metadata": {},
   "outputs": [],
   "source": [
    "driver.find_element_by_id(\"butgBusTimeList\").click()"
   ]
  },
  {
   "cell_type": "markdown",
   "metadata": {},
   "source": [
    "選擇單程送出"
   ]
  },
  {
   "cell_type": "code",
   "execution_count": 21,
   "metadata": {},
   "outputs": [],
   "source": [
    "try:\n",
    "    driver.find_element_by_link_text(u\"單程\").click()\n",
    "except:\n",
    "    print(\"此時段全部皆已客滿\")"
   ]
  },
  {
   "cell_type": "code",
   "execution_count": 22,
   "metadata": {},
   "outputs": [],
   "source": [
    "def book_PS(prefer,l):\n",
    "    for i in range(1,15):\n",
    "        try:\n",
    "            driver.find_element_by_id(\"chkBox_gSeatB_\"+\"%02d\"%i).click()\n",
    "            alert = driver.switch_to_alert()\n",
    "            time.sleep(1)\n",
    "            print (alert.text)  #列印警告對話方塊內容\n",
    "            alert.accept()   #alert對話方塊屬於警告對話方塊，我們這裡只能接受彈窗\n",
    "            break\n",
    "            \n",
    "        except:\n",
    "            print(\"find priority seat _\" +str(i)+ \" failed !\")\n",
    "            \n",
    "            \n",
    "def book_SS(prefer,l):\n",
    "    try:\n",
    "        driver.find_element_by_id(\"chkBox_gSeatB_\"+prefer).click()\n",
    "        l-=1\n",
    "    except:\n",
    "        print(\"選擇偏好座位失敗\")\n",
    "    \n",
    "    for i in range(1,15):\n",
    "        if(l==0):\n",
    "            break\n",
    "        try:\n",
    "            driver.find_element_by_id(\"chkBox_gSeatB_\"+i).click()\n",
    "            l-=1\n",
    "            break\n",
    "        except:\n",
    "            print(\"find simple seat_\"+str(i)+\" failed ! \")\n",
    "        \n",
    "        \n",
    "      \n",
    "def seat_A(n):\n",
    "    #print(\"tk_A_\"+str(n))\n",
    "    driver.find_element_by_id(\"tk_A_\"+str(n)).click()\n",
    "    \n",
    "def seat_H(n):\n",
    "    driver.find_element_by_id(\"tk_H_\"+str(n)).click()"
   ]
  },
  {
   "cell_type": "markdown",
   "metadata": {},
   "source": [
    "其他不用"
   ]
  },
  {
   "cell_type": "code",
   "execution_count": null,
   "metadata": {},
   "outputs": [
    {
     "name": "stdout",
     "output_type": "stream",
     "text": [
      "tk_A_5\n",
      "find priority seat _1 failed !\n"
     ]
    }
   ],
   "source": [
    "try:\n",
    "    seat_A(input_6)\n",
    "    seat_H(input_7)\n",
    "except:\n",
    "    print(\"選擇座位數錯誤 ! \")\n",
    "    \n",
    "try:\n",
    "    book_PS(input_9,input_8)\n",
    "    \n",
    "    tmp=input_6+input_7-input_8\n",
    "    \n",
    "    book_SS(input_7,tmp)\n",
    "except:\n",
    "    print(\"選擇座位錯誤 ! \")"
   ]
  },
  {
   "cell_type": "code",
   "execution_count": null,
   "metadata": {},
   "outputs": [],
   "source": []
  }
 ],
 "metadata": {
  "kernelspec": {
   "display_name": "Python 3",
   "language": "python",
   "name": "python3"
  },
  "language_info": {
   "codemirror_mode": {
    "name": "ipython",
    "version": 3
   },
   "file_extension": ".py",
   "mimetype": "text/x-python",
   "name": "python",
   "nbconvert_exporter": "python",
   "pygments_lexer": "ipython3",
   "version": "3.6.4"
  }
 },
 "nbformat": 4,
 "nbformat_minor": 2
}
